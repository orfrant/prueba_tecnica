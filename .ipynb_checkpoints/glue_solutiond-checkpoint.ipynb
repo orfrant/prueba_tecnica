{
 "cells": [
  {
   "cell_type": "markdown",
   "id": "739b058b-84de-43c7-8f8e-e64b0c8d6699",
   "metadata": {
    "jp-MarkdownHeadingCollapsed": true
   },
   "source": [
    "## Iniciando el entorno glue+spark+sedona"
   ]
  },
  {
   "cell_type": "code",
   "execution_count": 46,
   "id": "2c3c1831-a897-479d-9957-e619b91052f5",
   "metadata": {
    "scrolled": true
   },
   "outputs": [
    {
     "name": "stdout",
     "output_type": "stream",
     "text": [
      "Defaulting to user installation because normal site-packages is not writeable\n",
      "Requirement already satisfied: apache-sedona==1.6.1 in /home/glue_user/.local/lib/python3.10/site-packages (1.6.1)\n",
      "Requirement already satisfied: rasterio>=1.2.10 in /home/glue_user/.local/lib/python3.10/site-packages (from apache-sedona==1.6.1) (1.4.2)\n",
      "Requirement already satisfied: attrs in /home/glue_user/.local/lib/python3.10/site-packages (from apache-sedona==1.6.1) (22.2.0)\n",
      "Requirement already satisfied: shapely>=1.7.0 in /home/glue_user/.local/lib/python3.10/site-packages (from apache-sedona==1.6.1) (2.0.6)\n",
      "Requirement already satisfied: click>=4.0 in /home/glue_user/.local/lib/python3.10/site-packages (from rasterio>=1.2.10->apache-sedona==1.6.1) (8.1.3)\n",
      "Requirement already satisfied: certifi in /home/glue_user/.local/lib/python3.10/site-packages (from rasterio>=1.2.10->apache-sedona==1.6.1) (2021.5.30)\n",
      "Requirement already satisfied: cligj>=0.5 in /home/glue_user/.local/lib/python3.10/site-packages (from rasterio>=1.2.10->apache-sedona==1.6.1) (0.7.2)\n",
      "Requirement already satisfied: pyparsing in /home/glue_user/.local/lib/python3.10/site-packages (from rasterio>=1.2.10->apache-sedona==1.6.1) (2.4.7)\n",
      "Requirement already satisfied: click-plugins in /home/glue_user/.local/lib/python3.10/site-packages (from rasterio>=1.2.10->apache-sedona==1.6.1) (1.1.1)\n",
      "Requirement already satisfied: numpy>=1.24 in /home/glue_user/.local/lib/python3.10/site-packages (from rasterio>=1.2.10->apache-sedona==1.6.1) (2.1.3)\n",
      "Requirement already satisfied: affine in /home/glue_user/.local/lib/python3.10/site-packages (from rasterio>=1.2.10->apache-sedona==1.6.1) (2.4.0)\n",
      "\n",
      "\u001b[1m[\u001b[0m\u001b[34;49mnotice\u001b[0m\u001b[1;39;49m]\u001b[0m\u001b[39;49m A new release of pip is available: \u001b[0m\u001b[31;49m23.0.1\u001b[0m\u001b[39;49m -> \u001b[0m\u001b[32;49m24.3.1\u001b[0m\n",
      "\u001b[1m[\u001b[0m\u001b[34;49mnotice\u001b[0m\u001b[1;39;49m]\u001b[0m\u001b[39;49m To update, run: \u001b[0m\u001b[32;49mpython3 -m pip install --upgrade pip\u001b[0m\n",
      "Note: you may need to restart the kernel to use updated packages.\n"
     ]
    }
   ],
   "source": [
    "%pip install apache-sedona==1.6.1"
   ]
  },
  {
   "cell_type": "code",
   "execution_count": 47,
   "id": "9d1957fb-16d7-4a12-a766-3351a5bc734b",
   "metadata": {},
   "outputs": [
    {
     "name": "stdout",
     "output_type": "stream",
     "text": [
      "Starting Spark application\n"
     ]
    },
    {
     "data": {
      "text/html": [
       "<table>\n",
       "<tr><th>ID</th><th>YARN Application ID</th><th>Kind</th><th>State</th><th>Spark UI</th><th>Driver log</th><th>User</th><th>Current session?</th></tr><tr><td>1</td><td>None</td><td>pyspark</td><td>idle</td><td></td><td></td><td>None</td><td>✔</td></tr></table>"
      ],
      "text/plain": [
       "<IPython.core.display.HTML object>"
      ]
     },
     "metadata": {},
     "output_type": "display_data"
    },
    {
     "data": {
      "application/vnd.jupyter.widget-view+json": {
       "model_id": "",
       "version_major": 2,
       "version_minor": 0
      },
      "text/plain": [
       "FloatProgress(value=0.0, bar_style='info', description='Progress:', layout=Layout(height='25px', width='50%'),…"
      ]
     },
     "metadata": {},
     "output_type": "display_data"
    },
    {
     "name": "stdout",
     "output_type": "stream",
     "text": [
      "SparkSession available as 'spark'.\n"
     ]
    },
    {
     "data": {
      "text/html": [
       "Current session configs: <tt>{'conf': {'spark.jars.packages': 'org.apache.sedona:sedona-spark-shaded-3.0_2.12:1.6.1,org.datasyslab:geotools-wrapper:1.6.1-28.2'}, 'kind': 'pyspark'}</tt><br>"
      ],
      "text/plain": [
       "<IPython.core.display.HTML object>"
      ]
     },
     "metadata": {},
     "output_type": "display_data"
    },
    {
     "data": {
      "text/html": [
       "<table>\n",
       "<tr><th>ID</th><th>YARN Application ID</th><th>Kind</th><th>State</th><th>Spark UI</th><th>Driver log</th><th>User</th><th>Current session?</th></tr><tr><td>1</td><td>None</td><td>pyspark</td><td>idle</td><td></td><td></td><td>None</td><td>✔</td></tr></table>"
      ],
      "text/plain": [
       "<IPython.core.display.HTML object>"
      ]
     },
     "metadata": {},
     "output_type": "display_data"
    }
   ],
   "source": [
    "%%configure -f\n",
    "{\n",
    "    \"conf\": {\n",
    "        \"spark.jars.packages\": \"org.apache.sedona:sedona-spark-shaded-3.0_2.12:1.6.1,org.datasyslab:geotools-wrapper:1.6.1-28.2\"\n",
    "    }\n",
    "}"
   ]
  },
  {
   "cell_type": "markdown",
   "id": "b9afa9f5-8035-47d6-b8ff-ef10e56996d1",
   "metadata": {},
   "source": [
    "## ETL"
   ]
  },
  {
   "cell_type": "code",
   "execution_count": null,
   "id": "71c5a815-9772-4b30-b46a-137884c99016",
   "metadata": {},
   "outputs": [],
   "source": [
    "from sedona.spark import *\n",
    "from sedona.core.SpatialRDD import SpatialRDD\n",
    "from sedona.core.formatMapper.shapefileParser import ShapefileReader\n",
    "from sedona.utils.adapter import Adapter\n",
    "from pyspark.sql.functions import col\n",
    "from pyspark.sql import functions as f\n",
    "\n",
    "sedona = SedonaContext.create(spark)"
   ]
  },
  {
   "cell_type": "markdown",
   "id": "7b33165c-a9d8-4492-b0d6-0b1640cf20ef",
   "metadata": {},
   "source": [
    "### Obteniendo las pulsaciones."
   ]
  },
  {
   "cell_type": "code",
   "execution_count": 49,
   "id": "d11ec93a-812c-4f1a-9624-69090274c27a",
   "metadata": {},
   "outputs": [
    {
     "data": {
      "application/vnd.jupyter.widget-view+json": {
       "model_id": "",
       "version_major": 2,
       "version_minor": 0
      },
      "text/plain": [
       "FloatProgress(value=0.0, bar_style='info', description='Progress:', layout=Layout(height='25px', width='50%'),…"
      ]
     },
     "metadata": {},
     "output_type": "display_data"
    },
    {
     "name": "stdout",
     "output_type": "stream",
     "text": [
      "3456"
     ]
    }
   ],
   "source": [
    "pulsaciones = sedona.read.format(\"csv\").options(header=True).load(\"s3://pruebapulster/data/pulsaciones/*.csv\")\n",
    "pulsaciones = pulsaciones.withColumn(\n",
    "    \"geometry\",\n",
    "    ST_Point(col(\"Lon of Observation Point\"), col(\"Lat of Observation Point\"))\n",
    ")\n",
    "\n",
    "pulsaciones.count()"
   ]
  },
  {
   "cell_type": "code",
   "execution_count": 50,
   "id": "0767b016-dad9-4985-82d8-926afa2a265e",
   "metadata": {},
   "outputs": [
    {
     "data": {
      "application/vnd.jupyter.widget-view+json": {
       "model_id": "",
       "version_major": 2,
       "version_minor": 0
      },
      "text/plain": [
       "FloatProgress(value=0.0, bar_style='info', description='Progress:', layout=Layout(height='25px', width='50%'),…"
      ]
     },
     "metadata": {},
     "output_type": "display_data"
    }
   ],
   "source": [
    "pulsaciones = pulsaciones.dropDuplicates()"
   ]
  },
  {
   "cell_type": "code",
   "execution_count": 69,
   "id": "e3642f7c-542d-4125-97b5-63ee05b1abca",
   "metadata": {},
   "outputs": [
    {
     "data": {
      "application/vnd.jupyter.widget-view+json": {
       "model_id": "",
       "version_major": 2,
       "version_minor": 0
      },
      "text/plain": [
       "FloatProgress(value=0.0, bar_style='info', description='Progress:', layout=Layout(height='25px', width='50%'),…"
      ]
     },
     "metadata": {},
     "output_type": "display_data"
    }
   ],
   "source": [
    "pulsaciones = pulsaciones.withColumn(\"datetime\", f.to_timestamp(f.concat(f.col('Date'), f.lit(' '), f.col('Time of Day'))))"
   ]
  },
  {
   "cell_type": "code",
   "execution_count": 72,
   "id": "aac93620-5e7a-49d6-87f2-d3ac48354b39",
   "metadata": {},
   "outputs": [
    {
     "data": {
      "application/vnd.jupyter.widget-view+json": {
       "model_id": "",
       "version_major": 2,
       "version_minor": 0
      },
      "text/plain": [
       "FloatProgress(value=0.0, bar_style='info', description='Progress:', layout=Layout(height='25px', width='50%'),…"
      ]
     },
     "metadata": {},
     "output_type": "display_data"
    },
    {
     "name": "stdout",
     "output_type": "stream",
     "text": [
      "+----------+--------------------+------------------------+------------------------+----------+-----------+-----------+--------------------+-------------------+\n",
      "|Polygon ID|    Hashed Device ID|Lat of Observation Point|Lon of Observation Point|      Date|Time of Day|Day of Week|            geometry|           datetime|\n",
      "+----------+--------------------+------------------------+------------------------+----------+-----------+-----------+--------------------+-------------------+\n",
      "|   GT00771|4da5fc59fdeefefe0...|               14.641143|              -90.509878|2023-03-01|   14:54:55|        Wed|POINT (-90.509878...|2023-03-01 14:54:55|\n",
      "|   GT00769|57546f4ae7abadc39...|               14.608177|              -90.519319|2023-03-01|   13:44:06|        Wed|POINT (-90.519319...|2023-03-01 13:44:06|\n",
      "|   GT00769|cfe5756318a4c6786...|               14.626453|              -90.552004|2023-03-01|   16:49:16|        Wed|POINT (-90.552004...|2023-03-01 16:49:16|\n",
      "|   GT00769|3a23c4496be09b33f...|               14.621655|              -90.558110|2023-03-01|   22:12:59|        Wed|POINT (-90.55811 ...|2023-03-01 22:12:59|\n",
      "|   GT00773|51197c37a1c074561...|               14.530986|              -90.598695|2023-03-01|   17:46:29|        Wed|POINT (-90.598695...|2023-03-01 17:46:29|\n",
      "|   GT00773|17d54d37560affa73...|               14.521720|              -90.599928|2023-03-01|   20:28:05|        Wed|POINT (-90.599928...|2023-03-01 20:28:05|\n",
      "|   GT00770|511f210069fc56a18...|               14.556165|              -90.454884|2023-03-01|   10:14:51|        Wed|POINT (-90.454884...|2023-03-01 10:14:51|\n",
      "|   GT00770|511f210069fc56a18...|               14.556158|              -90.454912|2023-03-01|   14:28:49|        Wed|POINT (-90.454912...|2023-03-01 14:28:49|\n",
      "|   GT00771|4da5fc59fdeefefe0...|               14.654610|              -90.476853|2023-03-01|   15:51:32|        Wed|POINT (-90.476853...|2023-03-01 15:51:32|\n",
      "|   GT00769|57546f4ae7abadc39...|               14.624996|              -90.558547|2023-03-01|   12:39:00|        Wed|POINT (-90.558547...|2023-03-01 12:39:00|\n",
      "|   GT00769|4b1f49fa89251d425...|               14.623939|              -90.558010|2023-03-01|   18:22:25|        Wed|POINT (-90.55801 ...|2023-03-01 18:22:25|\n",
      "|   GT00769|9450b33abfaad39b5...|               14.606333|              -90.550899|2023-03-01|   18:22:52|        Wed|POINT (-90.550899...|2023-03-01 18:22:52|\n",
      "|   GT00769|9450b33abfaad39b5...|               14.624913|              -90.558616|2023-03-01|   19:51:41|        Wed|POINT (-90.558616...|2023-03-01 19:51:41|\n",
      "|   GT00770|511f210069fc56a18...|               14.556202|              -90.454862|2023-03-01|   11:43:05|        Wed|POINT (-90.454862...|2023-03-01 11:43:05|\n",
      "|   GT00769|103b012d9b57f02a8...|               14.633955|              -90.565891|2023-03-01|   13:19:21|        Wed|POINT (-90.565891...|2023-03-01 13:19:21|\n",
      "|   GT00773|f1bff9386c038b9ab...|               14.560553|              -90.550944|2023-03-01|   14:31:14|        Wed|POINT (-90.550944...|2023-03-01 14:31:14|\n",
      "|   GT00773|17d54d37560affa73...|               14.531696|              -90.597931|2023-03-01|   18:58:22|        Wed|POINT (-90.597931...|2023-03-01 18:58:22|\n",
      "|   GT00769|57546f4ae7abadc39...|               14.608208|              -90.519223|2023-03-01|   13:44:26|        Wed|POINT (-90.519223...|2023-03-01 13:44:26|\n",
      "|   GT00773|f1bff9386c038b9ab...|               14.532125|              -90.597956|2023-03-01|   16:16:44|        Wed|POINT (-90.597956...|2023-03-01 16:16:44|\n",
      "|   GT00771|7927752b4caf24b4b...|               14.647705|              -90.480222|2023-03-01|   15:53:25|        Wed|POINT (-90.480222...|2023-03-01 15:53:25|\n",
      "+----------+--------------------+------------------------+------------------------+----------+-----------+-----------+--------------------+-------------------+\n",
      "only showing top 20 rows"
     ]
    }
   ],
   "source": [
    "pulsaciones.show()"
   ]
  },
  {
   "cell_type": "markdown",
   "id": "6043f3f3-6373-47d9-b431-22997cbfe882",
   "metadata": {},
   "source": [
    "### Obteniendo los comercios"
   ]
  },
  {
   "cell_type": "code",
   "execution_count": 51,
   "id": "b4678d78-74ad-4688-8e75-48db329b5389",
   "metadata": {},
   "outputs": [
    {
     "data": {
      "application/vnd.jupyter.widget-view+json": {
       "model_id": "",
       "version_major": 2,
       "version_minor": 0
      },
      "text/plain": [
       "FloatProgress(value=0.0, bar_style='info', description='Progress:', layout=Layout(height='25px', width='50%'),…"
      ]
     },
     "metadata": {},
     "output_type": "display_data"
    }
   ],
   "source": [
    "comercios_rdd = ShapefileReader.readToGeometryRDD(sedona, \"s3://pruebapulster/shapes/Comercios/\")\n",
    "comercios = Adapter.toDf(comercios_rdd, sedona)"
   ]
  },
  {
   "cell_type": "markdown",
   "id": "0be98fe4-cbcf-4b14-a14a-0e948eaaf38b",
   "metadata": {},
   "source": [
    "### Realizando la consulta"
   ]
  },
  {
   "cell_type": "code",
   "execution_count": 73,
   "id": "5d2620a0-c199-4f78-9e37-f136aa281d3f",
   "metadata": {},
   "outputs": [
    {
     "data": {
      "application/vnd.jupyter.widget-view+json": {
       "model_id": "",
       "version_major": 2,
       "version_minor": 0
      },
      "text/plain": [
       "FloatProgress(value=0.0, bar_style='info', description='Progress:', layout=Layout(height='25px', width='50%'),…"
      ]
     },
     "metadata": {},
     "output_type": "display_data"
    }
   ],
   "source": [
    "comercios.createOrReplaceTempView(\"comercios\")\n",
    "pulsaciones.createOrReplaceTempView(\"pulsaciones\")"
   ]
  },
  {
   "cell_type": "code",
   "execution_count": 54,
   "id": "f134751b-d5f4-41c5-971b-5062b68a7e91",
   "metadata": {},
   "outputs": [
    {
     "data": {
      "application/vnd.jupyter.widget-view+json": {
       "model_id": "",
       "version_major": 2,
       "version_minor": 0
      },
      "text/plain": [
       "FloatProgress(value=0.0, bar_style='info', description='Progress:', layout=Layout(height='25px', width='50%'),…"
      ]
     },
     "metadata": {},
     "output_type": "display_data"
    },
    {
     "name": "stdout",
     "output_type": "stream",
     "text": [
      "+----------+--------+\n",
      "|Polygon Id|count(1)|\n",
      "+----------+--------+\n",
      "|   GT00772|     203|\n",
      "|   GT00773|     587|\n",
      "|   GT00769|    1229|\n",
      "|   GT00771|     721|\n",
      "|   GT00770|     716|\n",
      "+----------+--------+"
     ]
    }
   ],
   "source": [
    "sedona.sql(\"select `Polygon Id`, count(*) from pulsaciones GROUP BY `Polygon Id`\").show()"
   ]
  },
  {
   "cell_type": "code",
   "execution_count": 76,
   "id": "8d4124ff-c16b-4072-989b-c7e47166a55d",
   "metadata": {},
   "outputs": [
    {
     "data": {
      "application/vnd.jupyter.widget-view+json": {
       "model_id": "",
       "version_major": 2,
       "version_minor": 0
      },
      "text/plain": [
       "FloatProgress(value=0.0, bar_style='info', description='Progress:', layout=Layout(height='25px', width='50%'),…"
      ]
     },
     "metadata": {},
     "output_type": "display_data"
    }
   ],
   "source": [
    "resultado = sedona.sql(\"\"\"\n",
    "    SELECT comercios.ARGOSCODE, count(*) as conteo FROM comercios, pulsaciones \n",
    "        WHERE ST_Contains(comercios.geometry, pulsaciones.geometry) \n",
    "        GROUP BY comercios.ARGOSCODE\n",
    "    \"\"\")"
   ]
  },
  {
   "cell_type": "code",
   "execution_count": 77,
   "id": "b4dac090-29b0-4334-b3f7-d7f6f9d56376",
   "metadata": {},
   "outputs": [
    {
     "data": {
      "application/vnd.jupyter.widget-view+json": {
       "model_id": "",
       "version_major": 2,
       "version_minor": 0
      },
      "text/plain": [
       "FloatProgress(value=0.0, bar_style='info', description='Progress:', layout=Layout(height='25px', width='50%'),…"
      ]
     },
     "metadata": {},
     "output_type": "display_data"
    },
    {
     "name": "stdout",
     "output_type": "stream",
     "text": [
      "+---------+------+\n",
      "|ARGOSCODE|conteo|\n",
      "+---------+------+\n",
      "|  GT00772|    25|\n",
      "|  GT00773|    57|\n",
      "|  GT00769|   120|\n",
      "|  GT00771|    37|\n",
      "|  GT00770|   233|\n",
      "+---------+------+"
     ]
    }
   ],
   "source": [
    "resultado.show()"
   ]
  },
  {
   "cell_type": "code",
   "execution_count": 63,
   "id": "e63a766a-363f-45a9-8b3d-2ab93acd78e7",
   "metadata": {},
   "outputs": [
    {
     "data": {
      "application/vnd.jupyter.widget-view+json": {
       "model_id": "",
       "version_major": 2,
       "version_minor": 0
      },
      "text/plain": [
       "FloatProgress(value=0.0, bar_style='info', description='Progress:', layout=Layout(height='25px', width='50%'),…"
      ]
     },
     "metadata": {},
     "output_type": "display_data"
    }
   ],
   "source": [
    "resultado.write.mode(\"overwrite\").parquet(\"s3://pruebapulster/data/resultados/conteo_pulsaciones\")"
   ]
  },
  {
   "cell_type": "code",
   "execution_count": null,
   "id": "70a93606-e38e-4534-9081-c8434702d4a4",
   "metadata": {},
   "outputs": [],
   "source": []
  }
 ],
 "metadata": {
  "kernelspec": {
   "display_name": "PySpark",
   "language": "python",
   "name": "pysparkkernel"
  },
  "language_info": {
   "codemirror_mode": {
    "name": "python",
    "version": 3
   },
   "file_extension": ".py",
   "mimetype": "text/x-python",
   "name": "pyspark",
   "pygments_lexer": "python3"
  }
 },
 "nbformat": 4,
 "nbformat_minor": 5
}
