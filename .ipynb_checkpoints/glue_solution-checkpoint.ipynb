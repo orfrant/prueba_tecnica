{
 "cells": [
  {
   "cell_type": "markdown",
   "id": "739b058b-84de-43c7-8f8e-e64b0c8d6699",
   "metadata": {},
   "source": [
    "## Iniciando el entorno glue+spark+sedona"
   ]
  },
  {
   "cell_type": "code",
   "execution_count": null,
   "id": "2c3c1831-a897-479d-9957-e619b91052f5",
   "metadata": {
    "scrolled": true
   },
   "outputs": [],
   "source": [
    "%pip install apache-sedona==1.6.1"
   ]
  },
  {
   "cell_type": "code",
   "execution_count": null,
   "id": "9d1957fb-16d7-4a12-a766-3351a5bc734b",
   "metadata": {},
   "outputs": [],
   "source": [
    "%%configure -f\n",
    "{\n",
    "    \"conf\": {\n",
    "        \"spark.jars.packages\": \"org.apache.sedona:sedona-spark-shaded-3.0_2.12:1.6.1,org.datasyslab:geotools-wrapper:1.6.1-28.2\"\n",
    "    }\n",
    "}"
   ]
  },
  {
   "cell_type": "code",
   "execution_count": null,
   "id": "d11ec93a-812c-4f1a-9624-69090274c27a",
   "metadata": {},
   "outputs": [],
   "source": [
    "pulsaciones = spark.read.format(\"csv\").load(\"jupyter_workspace/PulsacionesPorDispositivo.csv\")"
   ]
  },
  {
   "cell_type": "code",
   "execution_count": null,
   "id": "d0d41d98-cfc2-41f8-a764-530c530a4be5",
   "metadata": {},
   "outputs": [],
   "source": [
    "pulsaciones.show()"
   ]
  },
  {
   "cell_type": "code",
   "execution_count": null,
   "id": "3e72d548-9150-40cd-994c-79a97ee2316a",
   "metadata": {},
   "outputs": [],
   "source": []
  }
 ],
 "metadata": {
  "kernelspec": {
   "display_name": "PySpark",
   "language": "python",
   "name": "pysparkkernel"
  },
  "language_info": {
   "codemirror_mode": {
    "name": "python",
    "version": 3
   },
   "file_extension": ".py",
   "mimetype": "text/x-python",
   "name": "pyspark",
   "pygments_lexer": "python3"
  }
 },
 "nbformat": 4,
 "nbformat_minor": 5
}
